{
 "cells": [
  {
   "cell_type": "markdown",
   "id": "1f39c599-78de-406b-b6ca-fea98618d2b9",
   "metadata": {},
   "source": [
    "# Data Science Tools and Ecosystem #"
   ]
  },
  {
   "cell_type": "markdown",
   "id": "ea8ba600-bf04-4c2e-9463-f1ce8b9f3b39",
   "metadata": {},
   "source": [
    "In this notebook, Data Science Tools and Ecosystem are summarized."
   ]
  },
  {
   "cell_type": "markdown",
   "id": "6d282a32-7fa5-439f-bb8a-01dc5b57aa80",
   "metadata": {},
   "source": [
    "Some of the popular languages that Data Scientists use are:\n",
    "1. Python\n",
    "2. R\n",
    "3. Julia"
   ]
  },
  {
   "cell_type": "markdown",
   "id": "85aec981-f890-4097-b1eb-bf9a0d0bf062",
   "metadata": {},
   "source": [
    "Some of the commonly used libraries used by Data Scientists include:\n",
    "1. pandas\n",
    "2. numpy\n",
    "3. NLTK"
   ]
  },
  {
   "cell_type": "markdown",
   "id": "96845137-4c28-462b-8ec7-ff58a95378c4",
   "metadata": {},
   "source": [
    "|data science tools|---|\n",
    "|------- |---- |\n",
    "|Git| \n",
    "|Watson studio| \n",
    "|Visual studio| "
   ]
  },
  {
   "cell_type": "markdown",
   "id": "a66d177b-6940-4a93-adec-240cdbcd7e3b",
   "metadata": {},
   "source": [
    "### Below are a few examples of evaluating arithmetic expressions in Python ###"
   ]
  },
  {
   "cell_type": "code",
   "execution_count": 24,
   "id": "e8a59a13-1a6a-4122-a1aa-20665d7600e6",
   "metadata": {},
   "outputs": [
    {
     "data": {
      "text/plain": [
       "17"
      ]
     },
     "execution_count": 24,
     "metadata": {},
     "output_type": "execute_result"
    }
   ],
   "source": [
    "(3*4)+5"
   ]
  },
  {
   "cell_type": "code",
   "execution_count": 28,
   "id": "231fb1cb-fd8e-41ac-afc8-3ffa30bf7a91",
   "metadata": {},
   "outputs": [
    {
     "name": "stdout",
     "output_type": "stream",
     "text": [
      "3.33\n"
     ]
    }
   ],
   "source": [
    "# This will convert 200 minutes to hours by diving by 60\n",
    "minutes = 200\n",
    "hours = minutes / 60\n",
    "print(round(hours,2))"
   ]
  },
  {
   "cell_type": "markdown",
   "id": "9d83dbd5-5e99-4f94-9bc2-10b0e9d280fd",
   "metadata": {},
   "source": [
    "**Objectives:**\n",
    "- Numpy\n",
    "- Pandas\n",
    "- Julia\n",
    "- R\n",
    "- Python"
   ]
  },
  {
   "cell_type": "markdown",
   "id": "e408689a-3572-476f-b3bb-c5d6ef702c52",
   "metadata": {},
   "source": [
    "## Author ##\n",
    "mustafa abdelaziz kamil hassan"
   ]
  }
 ],
 "metadata": {
  "kernelspec": {
   "display_name": "Python 3 (ipykernel)",
   "language": "python",
   "name": "python3"
  },
  "language_info": {
   "codemirror_mode": {
    "name": "ipython",
    "version": 3
   },
   "file_extension": ".py",
   "mimetype": "text/x-python",
   "name": "python",
   "nbconvert_exporter": "python",
   "pygments_lexer": "ipython3",
   "version": "3.12.4"
  }
 },
 "nbformat": 4,
 "nbformat_minor": 5
}
